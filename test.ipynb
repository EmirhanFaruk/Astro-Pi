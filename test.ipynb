{
 "cells": [
  {
   "cell_type": "code",
   "execution_count": 1,
   "metadata": {},
   "outputs": [
    {
     "ename": "ModuleNotFoundError",
     "evalue": "No module named 'rasterio'",
     "output_type": "error",
     "traceback": [
      "\u001b[1;31m---------------------------------------------------------------------------\u001b[0m",
      "\u001b[1;31mModuleNotFoundError\u001b[0m                       Traceback (most recent call last)",
      "\u001b[1;32m~\\AppData\\Local\\Temp/ipykernel_7428/194069259.py\u001b[0m in \u001b[0;36m<module>\u001b[1;34m\u001b[0m\n\u001b[0;32m      4\u001b[0m \u001b[1;32mimport\u001b[0m \u001b[0mnumpy\u001b[0m \u001b[1;32mas\u001b[0m \u001b[0mnp\u001b[0m\u001b[1;33m\u001b[0m\u001b[1;33m\u001b[0m\u001b[0m\n\u001b[0;32m      5\u001b[0m \u001b[1;32mfrom\u001b[0m \u001b[0mPIL\u001b[0m \u001b[1;32mimport\u001b[0m \u001b[0mImage\u001b[0m\u001b[1;33m\u001b[0m\u001b[1;33m\u001b[0m\u001b[0m\n\u001b[1;32m----> 6\u001b[1;33m \u001b[1;32mimport\u001b[0m \u001b[0mrasterio\u001b[0m\u001b[1;33m\u001b[0m\u001b[1;33m\u001b[0m\u001b[0m\n\u001b[0m\u001b[0;32m      7\u001b[0m \u001b[1;32mfrom\u001b[0m \u001b[0mrasterio\u001b[0m \u001b[1;32mimport\u001b[0m \u001b[0mplot\u001b[0m\u001b[1;33m\u001b[0m\u001b[1;33m\u001b[0m\u001b[0m\n",
      "\u001b[1;31mModuleNotFoundError\u001b[0m: No module named 'rasterio'"
     ]
    }
   ],
   "source": [
    "import cv2\n",
    "import matplotlib\n",
    "import matplotlib.pyplot as plt\n",
    "import numpy as np\n",
    "from PIL import Image\n",
    "import rasterio\n",
    "from rasterio import plot"
   ]
  },
  {
   "cell_type": "code",
   "execution_count": null,
   "metadata": {},
   "outputs": [],
   "source": [
    "\"\"\"\n",
    "B03 = r\n",
    "B06 = g\n",
    "B08 = b\n",
    "\n",
    "Il faut écrire 3 fonctions qui font les calculs des index suivants:\n",
    "NDWI: Normalized Differentiated Water Index\n",
    "PI: Plastic Index\n",
    "FDI: Floating Debris Index\n",
    "18 h 25\n",
    "Les formules sont les suivantes:\n",
    "NDWI = (B03 – B08)/(B03 + B08) ==> (r - b) / (r + b)\n",
    "PI = B08/(B08 + B04) ==> b / (b + g)\n",
    "\n",
    "\n",
    "FDI = B08 – [B06 + (B11 – B06) * 𝟖𝟑𝟐.𝟖−𝟔𝟔𝟒.𝟔 * 10] ==> b - [g + (r - g) * 832.8 - 664.6 * 10] \n",
    "B11 = r\n",
    "B06 = g\n",
    "B08 = b\n",
    "\n",
    "\n",
    "18 h 25\n",
    "Pour cela tu peux t’inspirer du code que nous avons utilisé l’an dernier pour NDVI\n",
    "\"\"\""
   ]
  },
  {
   "cell_type": "code",
   "execution_count": 2,
   "metadata": {},
   "outputs": [],
   "source": [
    "def get_ndwi(image_path):\n",
    "    image = cv2.imread(image_path)\n",
    "    r, g, b = cv2.split(image)\n",
    "    B03, B08 = r, b\n",
    "    bottom = (B03.astype(float) + B08.astype(float))\n",
    "    bottom[bottom == 0] = 0.00001\n",
    "    ndwi = (B03.astype(float) - B08.astype(float))/bottom\n",
    "    return ndwi\n",
    "\n",
    "def get_pi(image_path):\n",
    "    image = cv2.imread(image_path)\n",
    "    r, g, b = cv2.split(image)\n",
    "    B08, B04 = b, g\n",
    "    bottom = (B08.astype(float) + B04.astype(float))\n",
    "    bottom[bottom == 0] = 0.00001\n",
    "    pi = B08.astype(float)/bottom\n",
    "    return pi\n",
    "\n",
    "\n",
    "\"\"\"\n",
    "FDI = B08 – [B06 + (B11 – B06) * 𝟖𝟑𝟐.𝟖−𝟔𝟔𝟒.𝟔 * 10] ==> b - [g + (r - g) * 832.8 - 664.6 * 10] \n",
    "B11 = r\n",
    "B06 = g\n",
    "B08 = b\n",
    "\"\"\"\n",
    "def get_fdi(image_path):\n",
    "    image = cv2.imread(image_path)\n",
    "    r, g, b = cv2.split(image)\n",
    "    B11, B08, B06 = r, b, g\n",
    "    fdi = B08.astype(float) - (B06.astype(float) + (B11.astype(float) - B06.astype(float)) * 832.8 - 664.6 * 10)\n",
    "    return fdi"
   ]
  },
  {
   "cell_type": "code",
   "execution_count": 3,
   "metadata": {},
   "outputs": [
    {
     "data": {
      "text/plain": [
       "array([[-90021.8, -90021.8, -88356.2, ...,  -6691.8,  -6691.8,  -6691.8],\n",
       "       [-90852.6, -89187. , -89187. , ...,  -6691.8,  -6691.8,  -6691.8],\n",
       "       [-90017.8, -90017.8, -90017.8, ...,  -6691.8,  -6691.8,  -6691.8],\n",
       "       ...,\n",
       "       [ 60756. ,  59923.2,  59923.2, ...,  47431.2,  47431.2,  47431.2],\n",
       "       [ 63253.4,  63253.4,  60756. , ...,  45765.6,  47431.2,  47431.2],\n",
       "       [ 64919. ,  64919. ,  60756. , ...,  45765.6,  47431.2,  47431.2]])"
      ]
     },
     "execution_count": 3,
     "metadata": {},
     "output_type": "execute_result"
    }
   ],
   "source": [
    "image_path = r\"C:\\Users\\emirh\\OneDrive\\Bureau\\My_World_Dont_Change\\dosyalar\\Kodlarim\\Python\\Astro_Pi\\image.png\"\n",
    "\n",
    "#image = Image.open(\"image.png\")\n",
    "\n",
    "#print(get_ndwi(image_path))\n",
    "\n",
    "#print(get_pi(image_path))\n",
    "\n",
    "get_fdi(image_path)"
   ]
  }
 ],
 "metadata": {
  "interpreter": {
   "hash": "96bfb7b544a3e1ce251836778e358b53ef57614ca4352e00b03434d20fd25fb7"
  },
  "kernelspec": {
   "display_name": "Python 3.7.11 64-bit ('bluelens': conda)",
   "language": "python",
   "name": "python3"
  },
  "language_info": {
   "codemirror_mode": {
    "name": "ipython",
    "version": 3
   },
   "file_extension": ".py",
   "mimetype": "text/x-python",
   "name": "python",
   "nbconvert_exporter": "python",
   "pygments_lexer": "ipython3",
   "version": "3.7.11"
  },
  "orig_nbformat": 4
 },
 "nbformat": 4,
 "nbformat_minor": 2
}
